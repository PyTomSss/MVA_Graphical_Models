{
 "cells": [
  {
   "cell_type": "markdown",
   "metadata": {},
   "source": [
    "# 📘 Training Graph Neural Networks with a Custom `Train` Class\n",
    "\n",
    "This notebook provides an in-depth walkthrough of a custom `Train` class designed for training Graph Neural Networks (GNNs) using PyTorch. It supports multiple model types including GCN, GAT, GraphSAGE, and GIN, and facilitates full training loops with evaluation and early stopping.\n",
    "\n",
    "---\n",
    "\n",
    "## 🔧 **1. Setup and Requirements**\n",
    "\n",
    "Ensure you have the following modules and packages installed:\n",
    "\n",
    "```python\n",
    "!pip install torch torchvision torchaudio tqdm\n",
    "# Make sure you also have your custom modules:\n",
    "# - datasets\n",
    "# - src.models\n",
    "# - utils.utils"
   ]
  },
  {
   "cell_type": "markdown",
   "metadata": {},
   "source": [
    "This class handles the full training lifecycle:\n",
    "\n",
    "- Dataset loading (IMDB or DD)\n",
    "\n",
    "- Model initialization (GCN, GAT, GraphSAGE, GIN)\n",
    "\n",
    "- Graph subsampling (optional)\n",
    "\n",
    "- Training loop with optimizer and scheduler\n",
    "\n",
    "- Evaluation"
   ]
  },
  {
   "cell_type": "markdown",
   "metadata": {},
   "source": [
    "## 🧠 **3. Initialization**"
   ]
  },
  {
   "cell_type": "code",
   "execution_count": null,
   "metadata": {},
   "outputs": [],
   "source": [
    "from Pipeline.train import Train"
   ]
  },
  {
   "cell_type": "code",
   "execution_count": 2,
   "metadata": {},
   "outputs": [],
   "source": [
    "params = {\"model_type\": \"GCN\",  # \"GCN\", \"GAT\", \"GIN\", \"GraphSAGE\"\n",
    "               \"n_graph_subsampling\": 0, # the number of running graph subsampling each train graph data run subsampling 5 times: increasing graph data 5 times\n",
    "               \"graph_node_subsampling\": True, # TRUE: removing node randomly to subsampling and augmentation of graph dataset \\n'+\n",
    "                # FALSE: removing edge randomly to subsampling and augmentation of graph dataset\n",
    "               \"graph_subsampling_rate\": 0.2, # graph subsampling rate\n",
    "               \"dataset\": \"DD\", \n",
    "               \"pooling_type\": \"mean\", \n",
    "               \"seed\": 42,\n",
    "               \"n_folds\": 10, \n",
    "               \"cuda\": True, \n",
    "               \"lr\": 0.001, \n",
    "               \"epochs\": 50, \n",
    "               \"weight_decay\":5e-4,\n",
    "               \"batch_size\": 32, \n",
    "               \"dropout\": 0, # dropout rate of layer\n",
    "               \"num_lay\": 5, \n",
    "               \"num_agg_layer\": 2, # the number of graph aggregation layers\n",
    "               \"hidden_agg_lay_size\": 64, # size of hidden graph aggregation layer\n",
    "               \"fc_hidden_size\": 128, # size of fully-connected layer after readout\n",
    "               \"threads\":10, # how many subprocesses to use for data loading\n",
    "               \"random_walk\":True,\n",
    "               \"walk_length\": 20, # walk length of random walk, \n",
    "               \"num_walk\": 10, # num of random walk\n",
    "               \"p\": 0.65, # Possibility to return to the previous vertex, how well you navigate around\n",
    "               \"q\": 0.35, # Possibility of moving away from the previous vertex, how well you are exploring new places\n",
    "               \"print_logger\": 10,  # printing rate\n",
    "               \"eps\":0.0, # for GIN only\n",
    "               }"
   ]
  },
  {
   "cell_type": "code",
   "execution_count": 3,
   "metadata": {},
   "outputs": [],
   "source": [
    "trainer = Train(params)"
   ]
  },
  {
   "cell_type": "markdown",
   "metadata": {},
   "source": [
    "🧱 4. Model Selection\n",
    "Based on params[\"model_type\"], one of the following models is instantiated:\n",
    "\n",
    "- GCN: Graph Convolutional Network\n",
    "\n",
    "- GAT: Graph Attention Network\n",
    "\n",
    "- GraphSAGE: Neighborhood aggregation\n",
    "\n",
    "- GIN: Graph Isomorphism Network\n",
    "\n",
    "Each model is passed the following key hyperparameters:\n",
    "\n",
    "- Number of layers\n",
    "\n",
    "- Hidden layer sizes\n",
    "\n",
    "- Dropout\n",
    "\n",
    "- Pooling method"
   ]
  },
  {
   "cell_type": "markdown",
   "metadata": {},
   "source": [
    "The following `.fit()` method on a `Trainer` object runs the full training + evaluation loop:\n",
    "\n",
    "- Monitors accuracy\n",
    "\n",
    "- Applies early stopping after patience epochs without improvement\n",
    "\n",
    "It returns `['IMDB', 'IMDB', best_accuracy]`"
   ]
  },
  {
   "cell_type": "code",
   "execution_count": null,
   "metadata": {},
   "outputs": [],
   "source": [
    "trainer.fit()"
   ]
  }
 ],
 "metadata": {
  "kernelspec": {
   "display_name": "my_env",
   "language": "python",
   "name": "my_env"
  },
  "language_info": {
   "codemirror_mode": {
    "name": "ipython",
    "version": 3
   },
   "file_extension": ".py",
   "mimetype": "text/x-python",
   "name": "python",
   "nbconvert_exporter": "python",
   "pygments_lexer": "ipython3",
   "version": "3.9.7"
  }
 },
 "nbformat": 4,
 "nbformat_minor": 2
}
